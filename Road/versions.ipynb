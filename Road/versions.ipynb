{
 "cells": [
  {
   "cell_type": "code",
   "execution_count": 6,
   "metadata": {},
   "outputs": [],
   "source": [
    "#!/usr/bin/env python\n",
    "# coding: utf-8\n",
    "\n",
    "# In[1]:\n",
    "\n",
    "\n",
    "import os\n",
    "from datetime import datetime\n",
    "\n",
    "class ModelVersionManager:\n",
    "    def __init__(self, version_folder=\"model_versions2\"):\n",
    "        self.version_folder = version_folder\n",
    "        self.current_version = {\"major\": 1, \"minor\": 0, \"batch\": 0}\n",
    "\n",
    "        os.makedirs(self.version_folder, exist_ok=True)\n",
    "\n",
    "    def save_version(self, changes, evaluation_metrics, custom_filename=None):\n",
    "        \"\"\"Save a new version with changes and evaluation metrics into a new text file.\"\"\"\n",
    "        if changes == \"algorithm\":\n",
    "            self.current_version[\"major\"] += 1\n",
    "            self.current_version[\"minor\"] = 0\n",
    "            self.current_version[\"batch\"] = 0\n",
    "        elif changes == \"encoding\":\n",
    "            self.current_version[\"minor\"] += 1\n",
    "            self.current_version[\"batch\"] = 0\n",
    "        else: \n",
    "            self.current_version[\"batch\"] += 1\n",
    "\n",
    "        version_string = f\"{self.current_version['major']}.{self.current_version['minor']}.{self.current_version['batch']}\"\n",
    "\n",
    "        timestamp = datetime.now().isoformat()\n",
    "        content = (\n",
    "            f\"Version: {version_string}\\n\"\n",
    "            f\"Timestamp: {timestamp}\\n\"\n",
    "            f\"Changes: {changes}\\n\"\n",
    "            f\"Evaluation Metrics:\\n\"\n",
    "        )\n",
    "        for metric, value in evaluation_metrics.items():\n",
    "            content += f\"  - {metric}: {value}\\n\"\n",
    "\n",
    "        # If a custom filename is provided, use it. Otherwise, use the version string.\n",
    "        filename = custom_filename if custom_filename else f\"version_{version_string}.txt\"\n",
    "        filepath = os.path.join(self.version_folder, filename)\n",
    "        \n",
    "        with open(filepath, \"w\") as file:\n",
    "            file.write(content)\n",
    "\n",
    "        print(f\"Version {version_string} saved to {filepath}\")\n",
    "\n",
    "    def reset_version(self):\n",
    "        \"\"\"Reset the version to 1.0.0.\"\"\"\n",
    "        self.current_version = {\"major\": 1, \"minor\": 0, \"batch\": 0}\n",
    "        print(\"Version reset to 1.0.0\")\n",
    "\n",
    "    def get_version_folder(self):\n",
    "        \"\"\"Return the folder where versions are stored.\"\"\"\n",
    "        return self.version_folder\n"
   ]
  },
  {
   "cell_type": "code",
   "execution_count": null,
   "metadata": {},
   "outputs": [],
   "source": []
  }
 ],
 "metadata": {
  "kernelspec": {
   "display_name": "cloudspace",
   "language": "python",
   "name": "python3"
  },
  "language_info": {
   "codemirror_mode": {
    "name": "ipython",
    "version": 3
   },
   "file_extension": ".py",
   "mimetype": "text/x-python",
   "name": "python",
   "nbconvert_exporter": "python",
   "pygments_lexer": "ipython3",
   "version": "3.10.10"
  }
 },
 "nbformat": 4,
 "nbformat_minor": 2
}
